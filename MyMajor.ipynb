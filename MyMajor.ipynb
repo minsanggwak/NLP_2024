{
  "nbformat": 4,
  "nbformat_minor": 0,
  "metadata": {
    "colab": {
      "provenance": [],
      "authorship_tag": "ABX9TyNeWBfB3YLH8pfP48kQh12a",
      "include_colab_link": true
    },
    "kernelspec": {
      "name": "python3",
      "display_name": "Python 3"
    },
    "language_info": {
      "name": "python"
    }
  },
  "cells": [
    {
      "cell_type": "markdown",
      "metadata": {
        "id": "view-in-github",
        "colab_type": "text"
      },
      "source": [
        "<a href=\"https://colab.research.google.com/github/minsanggwak/NLP_2024/blob/main/MyMajor.ipynb\" target=\"_parent\"><img src=\"https://colab.research.google.com/assets/colab-badge.svg\" alt=\"Open In Colab\"/></a>"
      ]
    },
    {
      "cell_type": "markdown",
      "source": [
        "# 🗾🍣 **저희 <font color = 'red'> 일어일문학과</font>를 소개합니다.**\n",
        "* ## [일어일문학과 홈페이지](https://japan.hannam.ac.kr/)\n",
        "\n"
      ],
      "metadata": {
        "id": "nNT0XDxhyuV6"
      }
    }
  ]
}